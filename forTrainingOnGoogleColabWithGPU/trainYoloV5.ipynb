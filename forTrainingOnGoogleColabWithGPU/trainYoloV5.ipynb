{
  "nbformat": 4,
  "nbformat_minor": 0,
  "metadata": {
    "colab": {
      "provenance": [],
      "gpuType": "T4"
    },
    "kernelspec": {
      "name": "python3",
      "display_name": "Python 3"
    },
    "language_info": {
      "name": "python"
    },
    "accelerator": "GPU"
  },
  "cells": [
    {
      "cell_type": "code",
      "execution_count": null,
      "metadata": {
        "id": "Ix7HNjK9PFm_"
      },
      "outputs": [],
      "source": [
        "!git clone https://github.com/ultralytics/yolov5\n",
        "import os\n",
        "os.chdir('yolov5')\n",
        "!pip install -r requirements.txt\n",
        "!pip install roboflow"
      ]
    },
    {
      "cell_type": "code",
      "source": [
        "!python --version"
      ],
      "metadata": {
        "id": "ln1YjlaeQiL-"
      },
      "execution_count": null,
      "outputs": []
    },
    {
      "cell_type": "code",
      "source": [
        "from roboflow import Roboflow\n",
        "API_KEY = \"\" # change this\n",
        "rf = Roboflow(api_key=API_KEY)\n",
        "project = rf.workspace(\"zebrazoom\").project(\"cavefish\")\n",
        "version = project.version(2) #1)\n",
        "dataset = version.download(\"yolov5\")"
      ],
      "metadata": {
        "id": "rYy1AH8qRmlb"
      },
      "execution_count": null,
      "outputs": []
    },
    {
      "cell_type": "code",
      "source": [
        "!python train.py --img 640 --epochs 1000 --data cavefish.yaml --weights yolov5s.pt # cavefish.yaml needs to be uploaded"
      ],
      "metadata": {
        "id": "FAfu1KZrRrZw"
      },
      "execution_count": null,
      "outputs": []
    },
    {
      "cell_type": "code",
      "source": [
        "!python detect.py --weights ./runs/train/exp2/weights/best.pt --img 640 --conf 0.25 --source cavefish-2/valid/images --save-txt --save-csv --save-conf"
      ],
      "metadata": {
        "id": "c_-jW2HP3TRg"
      },
      "execution_count": null,
      "outputs": []
    },
    {
      "cell_type": "code",
      "source": [
        "!python detect.py --weights ./runs/train/exp2/weights/best.pt --img 640 --conf 0.25 --source cavefish-2/train/images --save-txt --save-csv --save-conf"
      ],
      "metadata": {
        "id": "q_HOM1tISlvj"
      },
      "execution_count": null,
      "outputs": []
    },
    {
      "cell_type": "code",
      "source": [
        "import torch\n",
        "from pathlib import Path\n",
        "\n",
        "# Recursive function to replace PosixPath with strings\n",
        "def convert_paths(obj):\n",
        "    if isinstance(obj, Path):\n",
        "        return str(obj)\n",
        "    elif isinstance(obj, dict):\n",
        "        return {k: convert_paths(v) for k, v in obj.items()}\n",
        "    elif isinstance(obj, list):\n",
        "        return [convert_paths(i) for i in obj]\n",
        "    elif isinstance(obj, tuple):\n",
        "        return tuple(convert_paths(i) for i in obj)\n",
        "    return obj\n",
        "\n",
        "# Load the model\n",
        "model = torch.load('best.pt', map_location='cpu')\n",
        "\n",
        "# Deep convert PosixPath to string\n",
        "model = convert_paths(model)\n",
        "\n",
        "# Save the modified model\n",
        "torch.save(model, 'best_windows_compatible3.pt')\n"
      ],
      "metadata": {
        "id": "bUMyugqIdvSS"
      },
      "execution_count": null,
      "outputs": []
    },
    {
      "cell_type": "code",
      "source": [],
      "metadata": {
        "id": "XsBhRPTLfg2W"
      },
      "execution_count": null,
      "outputs": []
    }
  ]
}